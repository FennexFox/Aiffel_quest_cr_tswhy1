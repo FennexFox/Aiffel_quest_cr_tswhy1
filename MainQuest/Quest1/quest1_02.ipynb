{
  "nbformat": 4,
  "nbformat_minor": 0,
  "metadata": {
    "colab": {
      "provenance": [],
      "authorship_tag": "ABX9TyPE5ycOtP7Z54l4uIM0ynvM",
      "include_colab_link": true
    },
    "kernelspec": {
      "name": "python3",
      "display_name": "Python 3"
    },
    "language_info": {
      "name": "python"
    }
  },
  "cells": [
    {
      "cell_type": "markdown",
      "metadata": {
        "id": "view-in-github",
        "colab_type": "text"
      },
      "source": [
        "<a href=\"https://colab.research.google.com/github/tswhy1/Aiffel_quest_cr/blob/main/MainQuest/Quest1/quest1_02.ipynb\" target=\"_parent\"><img src=\"https://colab.research.google.com/assets/colab-badge.svg\" alt=\"Open In Colab\"/></a>"
      ]
    },
    {
      "cell_type": "code",
      "execution_count": 15,
      "metadata": {
        "id": "hQgO1IjlUoBH"
      },
      "outputs": [],
      "source": [
        "import random\n",
        "\n",
        "class Character: #캐릭터 클래스\n",
        "  def __init__(self, name, level, health, attack, defense):\n",
        "    self.name = name\n",
        "    self.level = level\n",
        "    self.health = health\n",
        "    self.attack = attack\n",
        "    self.defense = defense\n",
        "\n",
        "  def is_alive(self): #is_alive 메서드\n",
        "    return self.health > 0\n",
        "\n",
        "  def take_damage(self, damage): #take_damage 메서드\n",
        "    actual_damage = max(damage - self.defense, 0)\n",
        "    self.health -= actual_damage\n",
        "    print(f\"{self.name}는 {actual_damage}만큼의 데미지를 받았습니다! 현재 체력: {self.health}\")\n",
        "\n",
        "  def attack_target(self, target): #attack_target 메서드\n",
        "    damage = random.randint(1, self.attack)\n",
        "    print(f\"{self.name}가 {target.name}에게 {damage}의 데미지를 입힙니다!\")\n",
        "    target.take_damage(damage)\n",
        "\n",
        "class Player(Character): #Player 클래스\n",
        "  def __init__(self, name):\n",
        "    super().__init__(name, level=1, health=100, attack=25, defense=5)\n",
        "    self.experience = 0\n",
        "\n",
        "  def gain_experience(self, exp):\n",
        "    self.experience += exp\n",
        "    print(f\"{self.name}가 {exp} 경험치를 얻었습니다! 현재 경험치: {self.experience}\")\n",
        "    self.level_up()\n",
        "\n",
        "  def level_up(self):\n",
        "    if self.experience >= 50:\n",
        "        self.level += 1\n",
        "        self.attack += 10\n",
        "        self.defense += 5\n",
        "        self.experience -= 50 #이부분 이해안됨_확인필요(확인_레벨업 후 50 경험치를 차감, 밸런스를 유지시키기 위해)\n",
        "        print(f\"{self.name}가 레벨업 했습니다! 현재 레벨: {self.level}, 공격력: {self.attack}, 방어력: {self.defense}\")\n",
        "\n",
        "class Monster(Character): #Monster 클래스\n",
        "  def __init__(self, name, level):\n",
        "    health = random.randint(10, 30) * level\n",
        "    attack = random.randint(5, 20) * level\n",
        "    defense = random.randint(1, 5) * level\n",
        "    super().__init__(name, level, health, attack, defense)\n",
        "\n",
        "def battle(player, monster): #battle 함수\n",
        "    print(f\"\\n{player.name}가 {monster.name}와 전투를 시작합니다!\")\n",
        "    while player.is_alive() and monster.is_alive():\n",
        "      player.attack_target(monster)\n",
        "      if monster.is_alive():\n",
        "        monster.attack_target(player)\n",
        "\n",
        "    if player.is_alive():\n",
        "        exp_gain = monster.level * 20\n",
        "        player.gain_experience(exp_gain)\n",
        "        print(\"전투 승리!\")\n",
        "\n",
        "    else:\n",
        "        print(\"전투 패배..\")\n",
        "\n",
        "def main(): #main 함수\n",
        "    monster_dict = {'슬라임': 1, '고블린': 2, '오크': 3}\n",
        "    player_name = input(\"플레이어의 이름을 입력하세요: \")\n",
        "    player = Player(player_name)\n",
        "\n",
        "    for monster_name, level in monster_dict.items():\n",
        "      monster = Monster(monster_name, level)\n",
        "      battle(player, monster)\n",
        "\n",
        "      if not player.is_alive():\n",
        "        print(\"게임오버\")\n",
        "        break\n",
        "\n",
        "    else:\n",
        "        print(\"모든 몬스터를 처치했습니다. 게임 클리어!\")\n",
        "\n"
      ]
    }
  ]
}