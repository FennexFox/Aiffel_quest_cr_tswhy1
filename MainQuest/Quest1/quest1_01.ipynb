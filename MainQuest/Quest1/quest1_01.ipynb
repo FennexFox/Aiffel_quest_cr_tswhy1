{
  "nbformat": 4,
  "nbformat_minor": 0,
  "metadata": {
    "colab": {
      "provenance": [],
      "authorship_tag": "ABX9TyP432Z5sYCituTX8vJrX9wb",
      "include_colab_link": true
    },
    "kernelspec": {
      "name": "python3",
      "display_name": "Python 3"
    },
    "language_info": {
      "name": "python"
    }
  },
  "cells": [
    {
      "cell_type": "markdown",
      "metadata": {
        "id": "view-in-github",
        "colab_type": "text"
      },
      "source": [
        "<a href=\"https://colab.research.google.com/github/tswhy1/Aiffel_quest_cr/blob/main/MainQuest/Quest1/quest1_01.ipynb\" target=\"_parent\"><img src=\"https://colab.research.google.com/assets/colab-badge.svg\" alt=\"Open In Colab\"/></a>"
      ]
    },
    {
      "cell_type": "code",
      "execution_count": 8,
      "metadata": {
        "colab": {
          "base_uri": "https://localhost:8080/"
        },
        "id": "vzBogZT1zVuL",
        "outputId": "bb18ec62-cb18-4395-bf0e-9e3fd5fd3050"
      },
      "outputs": [
        {
          "output_type": "stream",
          "name": "stdout",
          "text": [
            "은행이름: SC은행, 예금주: 일론, 계좌번호: 239-19-168720, 잔고: 1,500,000원\n"
          ]
        }
      ],
      "source": [
        "import random  #1\n",
        "class Account: #2\n",
        "  account_count = 0 #3\n",
        "\n",
        "  def __init__(self, owner, balance): #4\n",
        "    self.bank_name = \"SC은행\"\n",
        "    self.owner = owner\n",
        "    self.balance = balance\n",
        "    self.account_number = self.generate_account_number()\n",
        "    self.deposit_count = 0\n",
        "    self.deposit_transactions = [] #입금내역리스트\n",
        "    self.withdraw_transactions = [] #출금내역리스트\n",
        "\n",
        "    Account.account_count += 1 #3\n",
        "\n",
        "  def generate_account_number(self): #5\n",
        "    first_part = str(random.randint(100, 999))\n",
        "    second_part = str(random.randint(10, 99))\n",
        "    third_part = str(random.randint(100000,999999))\n",
        "    return f\"{first_part}-{second_part}-{third_part}\"\n",
        "\n",
        "  @classmethod #classmethod 전체계좌개수 확인 Q3\n",
        "  def get_account_num(cls): #6\n",
        "    return cls.account_count\n",
        "\n",
        "  def deposit(self, amount): #입금메서드Q4 #7\n",
        "    if amount >= 1:\n",
        "      self.balance += amount\n",
        "      self.deposit_count += 1\n",
        "      self.deposit_transactions.append(amount)\n",
        "\n",
        "      if self.deposit_count == 5: #입금횟수 5회가 될때 잔고기준 1%이자 추가 Q7\n",
        "        self.balacne += self.balance * 0.01\n",
        "        self.deposit_count = 0\n",
        "    else:\n",
        "      print(\"입금은 최소 1원이상 가능합니다.\")\n",
        "\n",
        "  def withdraw(self, amount): #출금메서드 Q5 #8\n",
        "    if amount <= self.balance:\n",
        "      self.balance -= amount\n",
        "      return amount\n",
        "    else:\n",
        "      print(\"잔고가 부족합니다.\")\n",
        "      return 0\n",
        "\n",
        "  def display_info(self): #정보출력메서드 Q6 #9\n",
        "    balance_formatted = f\"{self.balance:,.0f}원\"\n",
        "    print(f\"은행이름: {self.bank_name}, 예금주: {self.owner}, 계좌번호: {self.account_number}, 잔고: {balance_formatted}\")\n",
        "\n",
        "  def deposit_history(self): #10\n",
        "    print(\"입금내역:\", self.deposit_transactions)\n",
        "\n",
        "  def withdraw_history(self): #10\n",
        "    print(\"출금내역:\", self.withdraw_transactions)\n",
        "\n",
        "account1 = Account(\"빌\", 500000) #인스턴스 생성 시 처음에 클래스 안에서 생성 오류발생. Account 클래스가 정의된 후, 클래스 바깥에서 인스턴스 생성해야한다는 점.\n",
        "account2 = Account(\"일론\", 1500000)\n",
        "account3 = Account(\"제프\", 750000)\n",
        "\n",
        "accounts = [account1, account2, account3]\n",
        "\n",
        "for account in accounts: #11 for 반복문 account 리스트 내 계좌 중 잔고가 100만원 이상인 계좌 정보를 출력\n",
        "  if account.balance >= 1000000:\n",
        "    account.display_info()\n",
        "\n",
        ""
      ]
    },
    {
      "cell_type": "markdown",
      "source": [
        "#1. random 모듈을 왜 입력하는지 몰라서 찾아봄.\n",
        "난수에 대한 개념. 아마도 계좌번호 생성에 있어서 무작위 생성이 필요해서 모듈을 입력한 것이 아닌가 함."
      ],
      "metadata": {
        "id": "jdc7GAcz1Tfi"
      }
    },
    {
      "cell_type": "markdown",
      "source": [
        "#2. class Account 클래스 정의:\n",
        "Account 클래스는 은행계좌의 속성(예금주, 계좌번호, 잔액 등)과 기능(입금, 출금, 이자 지급)을 포함한 객체를 생성. 여러 계좌 인스턴스를 만들어 관리할 수 있는 틀을 제공.\n",
        "\n",
        "\n"
      ],
      "metadata": {
        "id": "Q38cmUsv16RV"
      }
    },
    {
      "cell_type": "markdown",
      "source": [
        "#3. 클래스 변수 account_count:\n",
        "모든 Account 객체의 총 개수를 추적. 계좌가 새로 생성될 때마다 증가하도록 설정해 전체 계좌 수를 확인할 수 있음. 이를 통해 각 계좌가 생성될 때마다 전체 계좌 개수를 관리하는 구조를 만듬."
      ],
      "metadata": {
        "id": "lGo97Nl-KabK"
      }
    },
    {
      "cell_type": "markdown",
      "source": [
        "#4. __init__매서드 통해 생성자 정의.\n",
        "__init__메서드는 객체가 생성될 때 초기화됨. 예금주, 초기 잔액 등 필수정보를 인자로 받아 초기화하고, 자동으로 계좌번호를 생성. 계좌가 만들어질때마다 클래스 변수를 통해 총 계좌 수를 증가시킴. Account.account_count +=1 계좌가 생성될 때마다 1씩 증가하도록 설정. 왜? 새로운 계좌가 생성될 때마다 Account.account_count가 자동으로 업데이트. 전체 계좌 수를 추적할 수 있도록 하기 위해."
      ],
      "metadata": {
        "id": "QluiiTDq3pcz"
      }
    },
    {
      "cell_type": "markdown",
      "source": [
        "#5. generate_account_numbers()메서드:\n",
        "계좌번호를 지정된 형식(3자리-2자리-6자리)으로 무작위 생성함. random 모듈을 사용하여 각 부분을 생성하고 문자열로 조합해 계좌번호 형식을 맞춤."
      ],
      "metadata": {
        "id": "GyKFkLxkJJBg"
      }
    },
    {
      "cell_type": "markdown",
      "source": [
        "#6. get_account_num():\n",
        "클래스 메서드는 클래스 변수 account_count를 반환. 모든 계좌의 개수를 확인할 수 있는 방법을 제공."
      ],
      "metadata": {
        "id": "xOU86InFNFna"
      }
    },
    {
      "cell_type": "markdown",
      "source": [
        "#7. deposit 메서드:\n",
        "계좌에 금액을 입금하는 기능을 수행. deposit_count로 입금 횟수를 기록, 5회 입금 시 이자를 지급. 최소 입금액 조건을 확인해 잘못된 입금이 발생하지 않도록 설정."
      ],
      "metadata": {
        "id": "D2qP_JBsNU-q"
      }
    },
    {
      "cell_type": "markdown",
      "source": [
        "#8. withdraw 메서드:\n",
        "잔액이 충분할 경우만 출금하도록 제한, 계좌의 무분별한 출금 방지. 출금액이 잔액을 초과할 경우 경고 메시지 표시."
      ],
      "metadata": {
        "id": "CcqXDcbnNo0A"
      }
    },
    {
      "cell_type": "markdown",
      "source": [
        "#9. display_info 메서드:\n",
        "계좌의 주요 정보를 출력하는 기능. 잔액은 세자리마다 쉼표를 추가. 사실 아직 이 구문이 이해가 안감. f\"{self.balance:,.0f}원\""
      ],
      "metadata": {
        "id": "cUZ2SJr0OFRX"
      }
    },
    {
      "cell_type": "markdown",
      "source": [
        "#10. 입출금 내역 관리 메서드\n",
        "deposit_history와 withdraw_history: 입출금 내역을 기록해 둔 후 언제든 기록을 조회할 수 있게 함. 입출금 이력 관리 및 확인 가능."
      ],
      "metadata": {
        "id": "g39L2yDbOVPR"
      }
    },
    {
      "cell_type": "markdown",
      "source": [
        "#11. for 반복문을 사용.\n",
        "리스트에 저장된 계좌 객체 중 잔액이 100만원 이상인 계좌를 찾아 출력."
      ],
      "metadata": {
        "id": "2SzTJYQcOmWg"
      }
    }
  ]
}